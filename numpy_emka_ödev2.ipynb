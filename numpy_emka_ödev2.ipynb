{
  "nbformat": 4,
  "nbformat_minor": 0,
  "metadata": {
    "colab": {
      "provenance": []
    },
    "kernelspec": {
      "name": "python3",
      "display_name": "Python 3"
    },
    "language_info": {
      "name": "python"
    }
  },
  "cells": [
    {
      "cell_type": "code",
      "source": [
        "import numpy as np\n"
      ],
      "metadata": {
        "id": "5vflFEIxBDEf"
      },
      "execution_count": 2,
      "outputs": []
    },
    {
      "cell_type": "code",
      "source": [
        "#1 0-29 arası(29 dahil, toplam 30 tam sayı) tam sayılardan oluşan bir boyutlu bir dizi oluşturmak sonra bu array'in shape'ini (15,2) şeklinde güncelleyip 2 boyutlu hale çizimi.\n",
        "\n",
        "arr1d = np.arange(30)\n",
        "arr1d\n",
        "arr1d = np.arange(30).reshape(15,2)\n",
        "arr1d\n",
        "\n"
      ],
      "metadata": {
        "id": "q4-AVhCdNGxb",
        "colab": {
          "base_uri": "https://localhost:8080/"
        },
        "outputId": "cdcc16e6-0e60-4787-add8-f13db39ad4a1"
      },
      "execution_count": 3,
      "outputs": [
        {
          "output_type": "execute_result",
          "data": {
            "text/plain": [
              "array([[ 0,  1],\n",
              "       [ 2,  3],\n",
              "       [ 4,  5],\n",
              "       [ 6,  7],\n",
              "       [ 8,  9],\n",
              "       [10, 11],\n",
              "       [12, 13],\n",
              "       [14, 15],\n",
              "       [16, 17],\n",
              "       [18, 19],\n",
              "       [20, 21],\n",
              "       [22, 23],\n",
              "       [24, 25],\n",
              "       [26, 27],\n",
              "       [28, 29]])"
            ]
          },
          "metadata": {},
          "execution_count": 3
        }
      ]
    },
    {
      "cell_type": "code",
      "source": [
        "#2) 60 adet rastgele tam sayı verilerinden oluşan bir boyutlu bir array oluşturun. Devamında bu array'i istediğiniz shapelerde 3 boyutlu hale getirin ve son durumda oluşan array'in boyutunu ve shape'ini kontrol edin.\n",
        "arr2d = np.random.randint(10,100,60).reshape(3,-1,5)\n",
        "arr2d\n",
        "arr2d.shape\n",
        "arr2d.ndim\n"
      ],
      "metadata": {
        "id": "9UYs36p5Nlai"
      },
      "execution_count": null,
      "outputs": []
    },
    {
      "cell_type": "code",
      "source": [
        "#3 20 elemanlı ve sadece rakamlardan oluşan iki boyutlu bir array oluşturun. Ardından bu array'i düzleştirin ve tek boyutlu hale getirin ve son durumda oluşan array'in boyutunu ve shape'ini kontrol edin.\n",
        "arr2d = np.random.randint(0,9,20).reshape(5,-1)\n",
        "arr2d\n",
        "arr2d_duz = arr2d.reshape(-1)\n",
        "arr2d_duz\n",
        "arr2d_duz\n",
        "arr2d_duz.ndim\n",
        "arr2d_duz.shape"
      ],
      "metadata": {
        "id": "9JXDgKO1Nq9M"
      },
      "execution_count": null,
      "outputs": []
    },
    {
      "cell_type": "code",
      "source": [
        "#4) İstediğiniz herhangi elemanlardan oluşan 2 Boyutlu bir array oluşturun. Oluşturduğunuz bu 2 boyutlu array'in içindeki bütün elemanları hem yavaş yol olan for döngüsüyle hem de daha hızlı yol olan uygun NumPy metoduyla tek tek dönerek ekrana yazdırın.\n",
        "arr2d = np.array([[11,12,13,14,15], [6,7,8,9,10], [1,2,3,4,5]]) \n",
        "for i in arr2d:\n",
        "  for x in i:\n",
        "    print(x)\n",
        "print(\"yavaş mod tamamlandı\")\n",
        "for i in np.nditer(arr2d):\n",
        "  print(i)"
      ],
      "metadata": {
        "colab": {
          "base_uri": "https://localhost:8080/"
        },
        "id": "bL4AAWOIOtop",
        "outputId": "bd99791a-07a4-4196-e668-58533a6f5ee0"
      },
      "execution_count": 9,
      "outputs": [
        {
          "output_type": "stream",
          "name": "stdout",
          "text": [
            "11\n",
            "12\n",
            "13\n",
            "14\n",
            "15\n",
            "6\n",
            "7\n",
            "8\n",
            "9\n",
            "10\n",
            "1\n",
            "2\n",
            "3\n",
            "4\n",
            "5\n",
            "yavaş mod tamamlandı\n",
            "11\n",
            "12\n",
            "13\n",
            "14\n",
            "15\n",
            "6\n",
            "7\n",
            "8\n",
            "9\n",
            "10\n",
            "1\n",
            "2\n",
            "3\n",
            "4\n",
            "5\n"
          ]
        }
      ]
    },
    {
      "cell_type": "code",
      "source": [
        "#5 5,10,15,20,25,30 değerlerinden oluşan bir boyutlu bir array ve\n",
        "#   1,2,3,4,5,6 değerlerinden oluşan başka bir boyutlu bir array oluşturun.\n",
        "#   Bu arraylerinin elemanlarına kendi aralarında 4 işlem uygulayın. İki arrayinde 1.indexindekiler toplansın/çıkartılsın/çarpılsın/bölünsün gibi.\n",
        "arr1d = np.array([5,10,15,20,25,30])\n",
        "arr1_1d = np.array([1,2,3,4,5,6])\n",
        "arr1d.__add__(arr1_1d)"
      ],
      "metadata": {
        "colab": {
          "base_uri": "https://localhost:8080/"
        },
        "id": "SF9YB23VPSBZ",
        "outputId": "c79fe810-e0c9-4a69-e205-f3ee45a7d394"
      },
      "execution_count": 10,
      "outputs": [
        {
          "output_type": "execute_result",
          "data": {
            "text/plain": [
              "array([ 6, 12, 18, 24, 30, 36])"
            ]
          },
          "metadata": {},
          "execution_count": 10
        }
      ]
    },
    {
      "cell_type": "code",
      "source": [
        "#6 0-100 arası rastgele 10 tam sayıdan oluşan bir array oluşturun ve oluşturulan arrayin sum/mean/max/var/std değerlerini inceleyin.\n",
        "arr1d = np.random.randint(0,100,10)\n",
        "arr1d\n",
        "arr1d.sum()\n",
        "arr1d.mean()\n",
        "arr1d.max()\n",
        "arr1d.var()\n",
        "arr1d.std()"
      ],
      "metadata": {
        "id": "E99614hQVG4L",
        "colab": {
          "base_uri": "https://localhost:8080/"
        },
        "outputId": "6ee7dacb-2d79-4375-fa3b-a1db04a48f5f"
      },
      "execution_count": 11,
      "outputs": [
        {
          "output_type": "execute_result",
          "data": {
            "text/plain": [
              "27.786507517138602"
            ]
          },
          "metadata": {},
          "execution_count": 11
        }
      ]
    },
    {
      "cell_type": "code",
      "source": [
        "#7 0-20 arası(20 dahil değil) tam sayılardan oluşan ve 500-530(530 dahil) arası tam sayılardan oluşan 2 array oluşturun. Ardından bu iki array'i concatenate ederek ekrana yazdırın.\n",
        "arr1d = np.arange(20)\n",
        "arr1_1d = np.arange(500,531)\n",
        "arr1d\n",
        "arr1_1d\n",
        "#Concatenate here\n",
        "np.concatenate([arr1d,arr1_1d], axis=0)"
      ],
      "metadata": {
        "colab": {
          "base_uri": "https://localhost:8080/"
        },
        "id": "cJCIxPvosXie",
        "outputId": "57c2d11f-6938-4de3-c7c1-d622a193c279"
      },
      "execution_count": 14,
      "outputs": [
        {
          "output_type": "execute_result",
          "data": {
            "text/plain": [
              "array([  0,   1,   2,   3,   4,   5,   6,   7,   8,   9,  10,  11,  12,\n",
              "        13,  14,  15,  16,  17,  18,  19, 500, 501, 502, 503, 504, 505,\n",
              "       506, 507, 508, 509, 510, 511, 512, 513, 514, 515, 516, 517, 518,\n",
              "       519, 520, 521, 522, 523, 524, 525, 526, 527, 528, 529, 530])"
            ]
          },
          "metadata": {},
          "execution_count": 14
        }
      ]
    },
    {
      "cell_type": "code",
      "source": [
        "#8 15-50(50 dahil) arası tam sayılardan oluşan bir array oluşturun. Daha sonra 10-100 arası(100 dahil) tam sayılardan oluşan 2.bir array oluşturun. Bu 2 arrayi concatanate ederek 3.bir array oluşturun ve bu array'in 25.index ile 50.index'i(50 dahil) arasındaki değerlerini 888 yapın.\n",
        "arr1d = np.arange(15,51)\n",
        "arr1_1d = np.arange(10,101)\n",
        "#Concatenate type\n",
        "arr1_1d = np.concatenate([arr1d, arr1_1d], axis = 0)\n",
        "arr1_1d[25:51] = 888\n",
        "arr1_1d"
      ],
      "metadata": {
        "colab": {
          "base_uri": "https://localhost:8080/"
        },
        "id": "qIRZKpe2s4r5",
        "outputId": "8b290f81-d5f9-457f-db01-bfd788a8caf7"
      },
      "execution_count": 15,
      "outputs": [
        {
          "output_type": "execute_result",
          "data": {
            "text/plain": [
              "array([ 15,  16,  17,  18,  19,  20,  21,  22,  23,  24,  25,  26,  27,\n",
              "        28,  29,  30,  31,  32,  33,  34,  35,  36,  37,  38,  39, 888,\n",
              "       888, 888, 888, 888, 888, 888, 888, 888, 888, 888, 888, 888, 888,\n",
              "       888, 888, 888, 888, 888, 888, 888, 888, 888, 888, 888, 888,  25,\n",
              "        26,  27,  28,  29,  30,  31,  32,  33,  34,  35,  36,  37,  38,\n",
              "        39,  40,  41,  42,  43,  44,  45,  46,  47,  48,  49,  50,  51,\n",
              "        52,  53,  54,  55,  56,  57,  58,  59,  60,  61,  62,  63,  64,\n",
              "        65,  66,  67,  68,  69,  70,  71,  72,  73,  74,  75,  76,  77,\n",
              "        78,  79,  80,  81,  82,  83,  84,  85,  86,  87,  88,  89,  90,\n",
              "        91,  92,  93,  94,  95,  96,  97,  98,  99, 100])"
            ]
          },
          "metadata": {},
          "execution_count": 15
        }
      ]
    },
    {
      "cell_type": "code",
      "source": [
        "#9 0-40(40 dahil değil) arası değerlerden oluşan (8,5) shape'inde 2 boyutlu bir array ve  320-360(360 dahil değil) değerlerinden oluşan (8,5) shape'inde 2 boyutlubaşka bir array oluşturun. Devamında bu iki array'i hem axis = 0'da hem de axis = 1'de concatenate ederek farkı karşılaştırın.\n",
        "arr1d = np.arange(0,40).reshape(8,5)\n",
        "arr1_1d = np.arange(320,360).reshape(8,5)\n",
        "#Concatenate with axis=0\n",
        "np.concatenate([arr1d, arr1_1d], axis=0)\n",
        "#Concatenate with axis=1\n",
        "np.concatenate([arr1d, arr1_1d], axis=1)\n",
        "     "
      ],
      "metadata": {
        "colab": {
          "base_uri": "https://localhost:8080/"
        },
        "id": "IezaQmx0tRUN",
        "outputId": "55d20b81-38e1-4db2-f926-9790a6e83f26"
      },
      "execution_count": 17,
      "outputs": [
        {
          "output_type": "execute_result",
          "data": {
            "text/plain": [
              "array([[  0,   1,   2,   3,   4, 320, 321, 322, 323, 324],\n",
              "       [  5,   6,   7,   8,   9, 325, 326, 327, 328, 329],\n",
              "       [ 10,  11,  12,  13,  14, 330, 331, 332, 333, 334],\n",
              "       [ 15,  16,  17,  18,  19, 335, 336, 337, 338, 339],\n",
              "       [ 20,  21,  22,  23,  24, 340, 341, 342, 343, 344],\n",
              "       [ 25,  26,  27,  28,  29, 345, 346, 347, 348, 349],\n",
              "       [ 30,  31,  32,  33,  34, 350, 351, 352, 353, 354],\n",
              "       [ 35,  36,  37,  38,  39, 355, 356, 357, 358, 359]])"
            ]
          },
          "metadata": {},
          "execution_count": 17
        }
      ]
    },
    {
      "cell_type": "code",
      "source": [
        "#10 9.Soruda oluşturduğunuz 2 array'i axis = 2'de concatenate etmeye çalışın. Ardından axis = 2'de stacklemeye(yığınlamaya) çalışın. İkisi arasındaki farkı karşılaştırın.\n",
        "#STACK\n",
        "np.stack([arr1d, arr1_1d], axis=2)"
      ],
      "metadata": {
        "colab": {
          "base_uri": "https://localhost:8080/"
        },
        "id": "_wu6TaL7uY_2",
        "outputId": "044e3fb6-8532-4480-f307-29135dcd8921"
      },
      "execution_count": 18,
      "outputs": [
        {
          "output_type": "execute_result",
          "data": {
            "text/plain": [
              "array([[[  0, 320],\n",
              "        [  1, 321],\n",
              "        [  2, 322],\n",
              "        [  3, 323],\n",
              "        [  4, 324]],\n",
              "\n",
              "       [[  5, 325],\n",
              "        [  6, 326],\n",
              "        [  7, 327],\n",
              "        [  8, 328],\n",
              "        [  9, 329]],\n",
              "\n",
              "       [[ 10, 330],\n",
              "        [ 11, 331],\n",
              "        [ 12, 332],\n",
              "        [ 13, 333],\n",
              "        [ 14, 334]],\n",
              "\n",
              "       [[ 15, 335],\n",
              "        [ 16, 336],\n",
              "        [ 17, 337],\n",
              "        [ 18, 338],\n",
              "        [ 19, 339]],\n",
              "\n",
              "       [[ 20, 340],\n",
              "        [ 21, 341],\n",
              "        [ 22, 342],\n",
              "        [ 23, 343],\n",
              "        [ 24, 344]],\n",
              "\n",
              "       [[ 25, 345],\n",
              "        [ 26, 346],\n",
              "        [ 27, 347],\n",
              "        [ 28, 348],\n",
              "        [ 29, 349]],\n",
              "\n",
              "       [[ 30, 350],\n",
              "        [ 31, 351],\n",
              "        [ 32, 352],\n",
              "        [ 33, 353],\n",
              "        [ 34, 354]],\n",
              "\n",
              "       [[ 35, 355],\n",
              "        [ 36, 356],\n",
              "        [ 37, 357],\n",
              "        [ 38, 358],\n",
              "        [ 39, 359]]])"
            ]
          },
          "metadata": {},
          "execution_count": 18
        }
      ]
    },
    {
      "cell_type": "code",
      "source": [
        "#11 [1, 20, 25, 4, 4, 5, 4, 4, 1, 6, 9, 12, 1, 5] değerlerinden oluşan bir boyutlu bir array oluşturun. Devamında bu array'in içinde değeri 5'e eşit olan değerlerin indexleri bulun.\n",
        "arr1d = np.array([1, 20, 25, 4, 4, 5, 4, 4, 1, 6, 9, 12, 1, 5])\n",
        "np.where(arr1d == 5)"
      ],
      "metadata": {
        "colab": {
          "base_uri": "https://localhost:8080/"
        },
        "id": "k6Y7WzXevYM-",
        "outputId": "0824ff2e-0eaf-48fe-a17f-8c74b5685a20"
      },
      "execution_count": 19,
      "outputs": [
        {
          "output_type": "execute_result",
          "data": {
            "text/plain": [
              "(array([ 5, 13]),)"
            ]
          },
          "metadata": {},
          "execution_count": 19
        }
      ]
    },
    {
      "cell_type": "code",
      "source": [
        "#12 Yukarıda oluşturduğunuz array içinde değeri çift olan değerlerin indexlerini bulun.\n",
        "np.where(arr1d%2 == 0)"
      ],
      "metadata": {
        "colab": {
          "base_uri": "https://localhost:8080/"
        },
        "id": "07AJzyiqvk51",
        "outputId": "13d6cc6f-76a8-4d38-ba98-f884d0ec7aa1"
      },
      "execution_count": 20,
      "outputs": [
        {
          "output_type": "execute_result",
          "data": {
            "text/plain": [
              "(array([ 1,  3,  4,  6,  7,  9, 11]),)"
            ]
          },
          "metadata": {},
          "execution_count": 20
        }
      ]
    },
    {
      "cell_type": "code",
      "source": [
        "#13 Yukarıda oluşturduğunuz array içinde değeri 4'den büyük olan değerlerin indexlerini bulun.\n",
        "np.where(arr1d > 4)"
      ],
      "metadata": {
        "colab": {
          "base_uri": "https://localhost:8080/"
        },
        "id": "VOEJ1j1fvp3b",
        "outputId": "a7067a6a-584f-4658-9a09-6cd7da7a8a3c"
      },
      "execution_count": 21,
      "outputs": [
        {
          "output_type": "execute_result",
          "data": {
            "text/plain": [
              "(array([ 1,  2,  5,  9, 10, 11, 13]),)"
            ]
          },
          "metadata": {},
          "execution_count": 21
        }
      ]
    },
    {
      "cell_type": "code",
      "source": [
        "#14 Yukarıda oluşturduğunuz array içinde değeri 5'e tam bölünen değerlerin indexlerini bulun.\n",
        "np.where(arr1d%5 == 0)"
      ],
      "metadata": {
        "colab": {
          "base_uri": "https://localhost:8080/"
        },
        "id": "jjDX-mZbvuCB",
        "outputId": "9ca21ada-ba08-4353-ecac-fd3e478d52ee"
      },
      "execution_count": 22,
      "outputs": [
        {
          "output_type": "execute_result",
          "data": {
            "text/plain": [
              "(array([ 1,  2,  5, 13]),)"
            ]
          },
          "metadata": {},
          "execution_count": 22
        }
      ]
    },
    {
      "cell_type": "code",
      "source": [
        "#15 85-100(100 dahil) arasından rastgele 1 tam sayı seçin\n",
        "arr1d = np.random.randint(85, 101,1)\n",
        "arr1d\n",
        "np.random.choice(arr1d)\n",
        "     "
      ],
      "metadata": {
        "colab": {
          "base_uri": "https://localhost:8080/"
        },
        "id": "KFZ-UGOxvzrm",
        "outputId": "5288c761-f98b-4b75-d2ee-7165ba4550fa"
      },
      "execution_count": 23,
      "outputs": [
        {
          "output_type": "execute_result",
          "data": {
            "text/plain": [
              "100"
            ]
          },
          "metadata": {},
          "execution_count": 23
        }
      ]
    },
    {
      "cell_type": "code",
      "source": [
        "#16 İki basamaklı tam sayılar arasından rastgele sayılar seçerek (3,3) shape'inde bir array oluşturun.\n",
        "arr1d = np.random.randint(25,100,(3,3))\n",
        "arr1d"
      ],
      "metadata": {
        "colab": {
          "base_uri": "https://localhost:8080/"
        },
        "id": "dESXlo7Ev7gE",
        "outputId": "5a3453aa-c286-4332-e2bc-4a57d9832ceb"
      },
      "execution_count": 24,
      "outputs": [
        {
          "output_type": "execute_result",
          "data": {
            "text/plain": [
              "array([[37, 65, 72],\n",
              "       [63, 87, 62],\n",
              "       [75, 36, 83]])"
            ]
          },
          "metadata": {},
          "execution_count": 24
        }
      ]
    },
    {
      "cell_type": "code",
      "source": [
        "#17 35-60 arasındaki tam sayılardan bir array oluşturun, ardından bu array içinden rastgele 1 tam sayı seçin.\n",
        "arr1d = np.arange(35,61)\n",
        "arr1d\n",
        "np.random.choice(arr1d)"
      ],
      "metadata": {
        "colab": {
          "base_uri": "https://localhost:8080/"
        },
        "id": "mAlaprlowITV",
        "outputId": "3f826bbb-fe6b-4003-ffc9-b77bd4d7b254"
      },
      "execution_count": 25,
      "outputs": [
        {
          "output_type": "execute_result",
          "data": {
            "text/plain": [
              "37"
            ]
          },
          "metadata": {},
          "execution_count": 25
        }
      ]
    },
    {
      "cell_type": "code",
      "source": [
        "#18 Sadece [3, 8, 10, 53] değerlerinden oluşan (2,5) shape'inde 2 boyutlu bir array oluşturun.\n",
        "arr1d = np.array([[3,8,10,53,0], [0,0,0,0,0]]).reshape(2,5)\n",
        "arr1d\n",
        "\n"
      ],
      "metadata": {
        "colab": {
          "base_uri": "https://localhost:8080/"
        },
        "id": "s7n_GsRdwPdI",
        "outputId": "edea2a5e-1b32-4b8a-dd47-8215edc5ce54"
      },
      "execution_count": 50,
      "outputs": [
        {
          "output_type": "execute_result",
          "data": {
            "text/plain": [
              "array([[ 3,  8, 10, 53,  0],\n",
              "       [ 0,  0,  0,  0,  0]])"
            ]
          },
          "metadata": {},
          "execution_count": 50
        }
      ]
    }
  ]
}