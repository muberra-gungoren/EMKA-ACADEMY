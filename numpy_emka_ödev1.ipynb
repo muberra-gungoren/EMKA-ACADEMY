{
  "nbformat": 4,
  "nbformat_minor": 0,
  "metadata": {
    "colab": {
      "provenance": []
    },
    "kernelspec": {
      "name": "python3",
      "display_name": "Python 3"
    },
    "language_info": {
      "name": "python"
    }
  },
  "cells": [
    {
      "cell_type": "code",
      "execution_count": 1,
      "metadata": {
        "colab": {
          "base_uri": "https://localhost:8080/"
        },
        "id": "q_IepSQn5APQ",
        "outputId": "8ce3882a-0f91-4ab7-a7d6-b95c07d3a046"
      },
      "outputs": [
        {
          "output_type": "execute_result",
          "data": {
            "text/plain": [
              "3"
            ]
          },
          "metadata": {},
          "execution_count": 1
        }
      ],
      "source": [
        "# 1  Manuel değerleri el ile girerek 3 boyutlu bir array oluşturup bir değişkene atayın. Ardından 3 boyutlu olup olmadığına bakmak için dimension'ını kontrol edin\n",
        "import numpy as np\n",
        "arr1d = np.array([[[10,30]]])\n",
        "arr1d\n",
        "arr1d.ndim"
      ]
    },
    {
      "cell_type": "code",
      "source": [
        "#2 34, 40, 46, 52... 112 şeklinde devam eden 1 boyutlu bir array oluşturun.\n",
        "arr2d = np.arange(34,113,6)\n",
        "arr2d"
      ],
      "metadata": {
        "colab": {
          "base_uri": "https://localhost:8080/"
        },
        "id": "KcbYjuVh5Hvg",
        "outputId": "7e6e7b5a-524b-4132-90de-303fc70e44a0"
      },
      "execution_count": 2,
      "outputs": [
        {
          "output_type": "execute_result",
          "data": {
            "text/plain": [
              "array([ 34,  40,  46,  52,  58,  64,  70,  76,  82,  88,  94, 100, 106,\n",
              "       112])"
            ]
          },
          "metadata": {},
          "execution_count": 2
        }
      ]
    },
    {
      "cell_type": "code",
      "source": [
        "#3 50-500 arasında lineer artış gösteren 91 tane tam sayıdan oluşan bir array oluşturun.(dtype'ı int olsun)\n",
        "arr3d = np.linspace(50,500, 91, dtype='int')\n",
        "arr3d"
      ],
      "metadata": {
        "colab": {
          "base_uri": "https://localhost:8080/"
        },
        "id": "Se_9Cu--5OQE",
        "outputId": "9708b94b-b6f3-4bd6-dc43-7c7c19897651"
      },
      "execution_count": 3,
      "outputs": [
        {
          "output_type": "execute_result",
          "data": {
            "text/plain": [
              "array([ 50,  55,  60,  65,  70,  75,  80,  85,  90,  95, 100, 105, 110,\n",
              "       115, 120, 125, 130, 135, 140, 145, 150, 155, 160, 165, 170, 175,\n",
              "       180, 185, 190, 195, 200, 205, 210, 215, 220, 225, 230, 235, 240,\n",
              "       245, 250, 255, 260, 265, 270, 275, 280, 285, 290, 295, 300, 305,\n",
              "       310, 315, 320, 325, 330, 335, 340, 345, 350, 355, 360, 365, 370,\n",
              "       375, 380, 385, 390, 395, 400, 405, 410, 415, 420, 425, 430, 435,\n",
              "       440, 445, 450, 455, 460, 465, 470, 475, 480, 485, 490, 495, 500])"
            ]
          },
          "metadata": {},
          "execution_count": 3
        }
      ]
    },
    {
      "cell_type": "code",
      "source": [
        "#4  100(10**2) ile 10000(10**5) arasında logaritmik artış gösteren 8 sayıdan oluşan bir array oluşturun.\n",
        "arr4d = np.logspace(8, -1, 8)\n",
        "arr4d"
      ],
      "metadata": {
        "colab": {
          "base_uri": "https://localhost:8080/"
        },
        "id": "oO3HvlqP5ULv",
        "outputId": "c17a24a1-c527-45a0-c327-8de2690dbdcf"
      },
      "execution_count": 5,
      "outputs": [
        {
          "output_type": "execute_result",
          "data": {
            "text/plain": [
              "array([1.00000000e+08, 5.17947468e+06, 2.68269580e+05, 1.38949549e+04,\n",
              "       7.19685673e+02, 3.72759372e+01, 1.93069773e+00, 1.00000000e-01])"
            ]
          },
          "metadata": {},
          "execution_count": 5
        }
      ]
    },
    {
      "cell_type": "code",
      "source": [
        "#5 0-8 tam arasındaki ardışık tam sayılardan oluşan(0 ve 8 dahil toplam 9 değer) 3x3 shape'inde bir matris oluşturun.\n",
        "arr5d = np.arange(0,9).reshape(3,3)\n",
        "arr5d\n",
        "     "
      ],
      "metadata": {
        "colab": {
          "base_uri": "https://localhost:8080/"
        },
        "id": "VRFBPzdN5fFJ",
        "outputId": "d2802046-e3ec-43d2-8bbf-dde3c07dc049"
      },
      "execution_count": 6,
      "outputs": [
        {
          "output_type": "execute_result",
          "data": {
            "text/plain": [
              "array([[0, 1, 2],\n",
              "       [3, 4, 5],\n",
              "       [6, 7, 8]])"
            ]
          },
          "metadata": {},
          "execution_count": 6
        }
      ]
    },
    {
      "cell_type": "code",
      "source": [
        "#6 6x6 formatında bir sıfır matrisi oluşturun. (dtype'ı int olsun)\n",
        "arr6d = np.zeros((6, 6), dtype='int')\n",
        "arr6d"
      ],
      "metadata": {
        "colab": {
          "base_uri": "https://localhost:8080/"
        },
        "id": "d313HhpR5luX",
        "outputId": "ff9e7090-0ce6-403c-d064-33697f4a1d92"
      },
      "execution_count": 7,
      "outputs": [
        {
          "output_type": "execute_result",
          "data": {
            "text/plain": [
              "array([[0, 0, 0, 0, 0, 0],\n",
              "       [0, 0, 0, 0, 0, 0],\n",
              "       [0, 0, 0, 0, 0, 0],\n",
              "       [0, 0, 0, 0, 0, 0],\n",
              "       [0, 0, 0, 0, 0, 0],\n",
              "       [0, 0, 0, 0, 0, 0]])"
            ]
          },
          "metadata": {},
          "execution_count": 7
        }
      ]
    },
    {
      "cell_type": "code",
      "source": [
        "#7 4x4 formatında bir bir matrisi oluşturun. (dtype'ı int olsun)\n",
        "arr7d = np.ones((4,4), dtype='int')\n",
        "arr7d"
      ],
      "metadata": {
        "colab": {
          "base_uri": "https://localhost:8080/"
        },
        "id": "Ikrmg-8i5sN7",
        "outputId": "aa80126c-35df-4738-8420-4edb8f54d5cf"
      },
      "execution_count": 8,
      "outputs": [
        {
          "output_type": "execute_result",
          "data": {
            "text/plain": [
              "array([[1, 1, 1, 1],\n",
              "       [1, 1, 1, 1],\n",
              "       [1, 1, 1, 1],\n",
              "       [1, 1, 1, 1]])"
            ]
          },
          "metadata": {},
          "execution_count": 8
        }
      ]
    },
    {
      "cell_type": "code",
      "source": [
        "#8 8x8 formatında bir birim matris oluşturun. (Sadece sol köşegeni 1 geri kalan değerleri 0 olan matris'e birim matris deniyor.) (dtype'ı int olsun)\n",
        "arr8d = np.eye((8), dtype= 'int')\n",
        "arr8d"
      ],
      "metadata": {
        "colab": {
          "base_uri": "https://localhost:8080/"
        },
        "id": "zVBRWSEx5wu-",
        "outputId": "1cd367a0-a7be-4a95-cfed-fde866bbe148"
      },
      "execution_count": 9,
      "outputs": [
        {
          "output_type": "execute_result",
          "data": {
            "text/plain": [
              "array([[1, 0, 0, 0, 0, 0, 0, 0],\n",
              "       [0, 1, 0, 0, 0, 0, 0, 0],\n",
              "       [0, 0, 1, 0, 0, 0, 0, 0],\n",
              "       [0, 0, 0, 1, 0, 0, 0, 0],\n",
              "       [0, 0, 0, 0, 1, 0, 0, 0],\n",
              "       [0, 0, 0, 0, 0, 1, 0, 0],\n",
              "       [0, 0, 0, 0, 0, 0, 1, 0],\n",
              "       [0, 0, 0, 0, 0, 0, 0, 1]])"
            ]
          },
          "metadata": {},
          "execution_count": 9
        }
      ]
    },
    {
      "cell_type": "code",
      "source": [
        "#9 5x5 formatında bir köşegen matrisi oluşturun (Sadece sol üstten sağ alta doğru olan köşegendeki değerleri 3 olsun diğer bütün değerleri 0) (Bunu henüz görmediniz ama birim matrise benziyor, sadece köşegen değerleri 1 değil 3 olacak. Bir şeyler düşünün)\n",
        "arr9d = np.eye((5), dtype=int)*3\n",
        "arr9d"
      ],
      "metadata": {
        "colab": {
          "base_uri": "https://localhost:8080/"
        },
        "id": "ZrocUTeZ52CI",
        "outputId": "4e4faaf7-6f6b-44cd-9ba2-751734ebeda0"
      },
      "execution_count": 10,
      "outputs": [
        {
          "output_type": "execute_result",
          "data": {
            "text/plain": [
              "array([[3, 0, 0, 0, 0],\n",
              "       [0, 3, 0, 0, 0],\n",
              "       [0, 0, 3, 0, 0],\n",
              "       [0, 0, 0, 3, 0],\n",
              "       [0, 0, 0, 0, 3]])"
            ]
          },
          "metadata": {},
          "execution_count": 10
        }
      ]
    },
    {
      "cell_type": "code",
      "source": [
        "#10 np.random modülünden uygun fonksiyonu kullanarak 0-1 arasında toplam 6 tane değerden oluşan 1 boyutlu bir array oluşturun.\n",
        "arr10d = np.random.rand(6)\n",
        "arr10d"
      ],
      "metadata": {
        "colab": {
          "base_uri": "https://localhost:8080/"
        },
        "id": "EKfDI_kQ5-HQ",
        "outputId": "58dc6aac-b9e0-48b3-ba0d-106d584cb92f"
      },
      "execution_count": 11,
      "outputs": [
        {
          "output_type": "execute_result",
          "data": {
            "text/plain": [
              "array([0.47333087, 0.98032228, 0.14951722, 0.83203336, 0.24375291,\n",
              "       0.15225411])"
            ]
          },
          "metadata": {},
          "execution_count": 11
        }
      ]
    },
    {
      "cell_type": "code",
      "source": [
        "#11 np.random modülünden uygun fonksiyonu kullanarak 50-100 arasındaki(50 ve 100 dahil) tam sayılardan 10 tanesiyle oluşan (5,2) shape'inde bir array oluşturun. Ardından bu arrayin shape'ini kontrol edin.\n",
        "\n",
        "arr11d =np.random.randint(50, 101, (5,2))\n",
        "arr11d\n",
        "     "
      ],
      "metadata": {
        "colab": {
          "base_uri": "https://localhost:8080/"
        },
        "id": "q6asvV2D6GUT",
        "outputId": "e13e04aa-9201-4b73-bfb8-d0e1b42d807e"
      },
      "execution_count": 12,
      "outputs": [
        {
          "output_type": "execute_result",
          "data": {
            "text/plain": [
              "array([[55, 64],\n",
              "       [80, 53],\n",
              "       [88, 80],\n",
              "       [51, 51],\n",
              "       [74, 83]])"
            ]
          },
          "metadata": {},
          "execution_count": 12
        }
      ]
    },
    {
      "cell_type": "code",
      "source": [
        "#12 np.random modülünden uygun fonksiyonu kullanarak 100-1000(1000 dahil değil) arasındaki tam sayılardan rastgele 50 tanesinden oluşan (2,5,5) shape'inde 3 boyutlu bir array oluşturun. Ardından bu array'in dimension'ını(boyutunu) ve shape'ini kontrol edin.\n",
        "arr12d = np.random.randint(100,1000,50).reshape(2,5,5)\n",
        "arr12d\n",
        "arr12d.ndim\n",
        "arr12d.dtype"
      ],
      "metadata": {
        "colab": {
          "base_uri": "https://localhost:8080/"
        },
        "id": "kTtIHP3L6Kdp",
        "outputId": "876b4c82-cd70-4e19-fc1c-af5a60ab113b"
      },
      "execution_count": 13,
      "outputs": [
        {
          "output_type": "execute_result",
          "data": {
            "text/plain": [
              "dtype('int64')"
            ]
          },
          "metadata": {},
          "execution_count": 13
        }
      ]
    },
    {
      "cell_type": "code",
      "source": [
        "#13 np.random modülünden uygun fonksiyonu kullanarak 0-100(0 ve 100 dahil) arasındaki tam sayılardan 10 tane seçerek bir array oluşturun. Bu array'in maximum, mininmum değerlerine ve bu değerlerin indexlerine bakın.\n",
        "arr13d = np.random.randint(0,101,10)\n",
        "max13_value = np.max(arr13d)\n",
        "min13_value = np.min(arr13d)\n",
        "arr13d\n",
        "max13_value, min13_value"
      ],
      "metadata": {
        "colab": {
          "base_uri": "https://localhost:8080/"
        },
        "id": "h6VyVZzS6SJU",
        "outputId": "51d661af-1fc6-461f-bb5c-37a251643c4e"
      },
      "execution_count": 14,
      "outputs": [
        {
          "output_type": "execute_result",
          "data": {
            "text/plain": [
              "(100, 3)"
            ]
          },
          "metadata": {},
          "execution_count": 14
        }
      ]
    },
    {
      "cell_type": "code",
      "source": [
        "#14 np.random modülünden uygun fonksiyonu kullanarak 300-500(300 ve 500 dahil) arasındaki tam sayılardan 20 tane seçerek (2,2,5) shape'inde 3 boyutlu bir array oluşturun. Ardından bu array'in içindeki 20 tam sayı arasından maximum ve minimum değerleri manuel olarak tespit edin ve indexleme yaparak çekmeye çalışın.\n",
        "arr14d = np.random.randint(300,501,20).reshape(2,2,5)\n",
        "arr14d\n",
        "\n",
        "min_number = arr14d[2:2:1]\n",
        "min_number\n"
      ],
      "metadata": {
        "colab": {
          "base_uri": "https://localhost:8080/"
        },
        "id": "8Bo6Meph6XMI",
        "outputId": "1049b495-18db-4e3b-decb-f346d637066f"
      },
      "execution_count": 15,
      "outputs": [
        {
          "output_type": "execute_result",
          "data": {
            "text/plain": [
              "array([], shape=(0, 2, 5), dtype=int64)"
            ]
          },
          "metadata": {},
          "execution_count": 15
        }
      ]
    },
    {
      "cell_type": "code",
      "source": [
        "#15 0-50(50 dahil) arasındaki ardışık tam sayılardan oluşan bir array oluşturun. Ardından bu arrayin 20. ve 35. indexleri arasındaki değerleri 500'e eşitleyin ve yeni oluşan array'i ekrana yazdırarak broadcasting işleminin yapılıp yapılmadığını test edin.\n",
        "arr15d = np.arange(0,51)\n",
        "arr15d[20:36] = 500\n",
        "arr15d"
      ],
      "metadata": {
        "colab": {
          "base_uri": "https://localhost:8080/"
        },
        "id": "bekHORG46byv",
        "outputId": "e2110911-ef3e-48f7-950f-ce82de2a3733"
      },
      "execution_count": 16,
      "outputs": [
        {
          "output_type": "execute_result",
          "data": {
            "text/plain": [
              "array([  0,   1,   2,   3,   4,   5,   6,   7,   8,   9,  10,  11,  12,\n",
              "        13,  14,  15,  16,  17,  18,  19, 500, 500, 500, 500, 500, 500,\n",
              "       500, 500, 500, 500, 500, 500, 500, 500, 500, 500,  36,  37,  38,\n",
              "        39,  40,  41,  42,  43,  44,  45,  46,  47,  48,  49,  50])"
            ]
          },
          "metadata": {},
          "execution_count": 16
        }
      ]
    }
  ]
}
